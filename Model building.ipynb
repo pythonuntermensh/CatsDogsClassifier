{
 "cells": [
  {
   "cell_type": "code",
   "execution_count": 1,
   "id": "b5e4ae8c-9f16-4a44-a3cd-cb710c1c5cb2",
   "metadata": {},
   "outputs": [],
   "source": [
    "import tensorflow as tf"
   ]
  },
  {
   "cell_type": "code",
   "execution_count": 17,
   "id": "a70543d5-7575-45bb-a611-48440be7066c",
   "metadata": {},
   "outputs": [],
   "source": [
    "from tensorflow.keras.preprocessing.image import ImageDataGenerator\n",
    "from tensorflow.keras.models import Model\n",
    "from tensorflow.keras.layers import Input, Flatten, Dense, Dropout, GlobalAveragePooling2D\n",
    "from tensorflow.keras.applications.mobilenet import MobileNet, preprocess_input\n",
    "import math, keras"
   ]
  },
  {
   "cell_type": "code",
   "execution_count": 12,
   "id": "bc6083c4-acf8-4976-afc3-87b311312602",
   "metadata": {},
   "outputs": [],
   "source": [
    "TRAIN_DATA_DIR = 'train'\n",
    "VALIDATION_DATA_DIR = 'val'\n",
    "TRAIN_SAMPLES = 500\n",
    "VALIDATION_SAMPLES = 500\n",
    "NUM_CLASSES = 2\n",
    "IMG_WIDTH, IMG_HEIGHT = 224, 224\n",
    "BATCH_SIZE = 64"
   ]
  },
  {
   "cell_type": "code",
   "execution_count": 13,
   "id": "8cb59e4f-f604-42e6-b276-c95b2ca4d02d",
   "metadata": {},
   "outputs": [],
   "source": [
    "train_datagen = ImageDataGenerator(preprocessing_function=preprocess_input,\n",
    "    rotation_range=20,\n",
    "    width_shift_range=0.2,\n",
    "    height_shift_range=0.2,\n",
    "    zoom_range=0.2)\n",
    "val_datagen = ImageDataGenerator(preprocessing_function=preprocess_input)"
   ]
  },
  {
   "cell_type": "code",
   "execution_count": 23,
   "id": "d5b04f3a-6cc8-4692-ba7a-abbbcf9e7f89",
   "metadata": {},
   "outputs": [
    {
     "name": "stdout",
     "output_type": "stream",
     "text": [
      "Found 500 images belonging to 2 classes.\n",
      "Found 500 images belonging to 2 classes.\n"
     ]
    }
   ],
   "source": [
    "train_generator = train_datagen.flow_from_directory(\n",
    "    TRAIN_DATA_DIR,\n",
    "    target_size=(IMG_WIDTH, IMG_HEIGHT),\n",
    "    batch_size=BATCH_SIZE,\n",
    "    shuffle=True,\n",
    "    seed=12345,\n",
    "    class_mode='categorical')\n",
    "\n",
    "validation_generator = val_datagen.flow_from_directory(\n",
    "    VALIDATION_DATA_DIR,\n",
    "    target_size=(IMG_WIDTH, IMG_HEIGHT),\n",
    "    batch_size=BATCH_SIZE,\n",
    "    shuffle=False,\n",
    "    class_mode='categorical')"
   ]
  },
  {
   "cell_type": "code",
   "execution_count": 15,
   "id": "024d2feb-db0c-4b65-96af-9f048ada48e8",
   "metadata": {},
   "outputs": [],
   "source": [
    "def model_maker():\n",
    "    base_model = MobileNet(include_top=False, input_shape=(IMG_WIDTH,IMG_HEIGHT,3))\n",
    "    for layer in base_model.layers[:]:\n",
    "        layer.trainable = False # Freeze the layers\n",
    "    input = Input(shape=(IMG_WIDTH, IMG_HEIGHT, 3))\n",
    "    custom_model = base_model(input)\n",
    "    custom_model = GlobalAveragePooling2D()(custom_model)\n",
    "    custom_model = Dense(64, activation='relu')(custom_model)\n",
    "    custom_model = Dropout(0.5)(custom_model)\n",
    "    predictions = Dense(NUM_CLASSES, activation='softmax')(custom_model)\n",
    "    return Model(inputs=input, outputs=predictions)"
   ]
  },
  {
   "cell_type": "code",
   "execution_count": 24,
   "id": "2d1b5133-3556-4cc3-9753-df4e538b5650",
   "metadata": {},
   "outputs": [
    {
     "name": "stderr",
     "output_type": "stream",
     "text": [
      "WARNING:absl:`lr` is deprecated in Keras optimizer, please use `learning_rate` or use the legacy optimizer, e.g.,tf.keras.optimizers.legacy.Adam.\n"
     ]
    },
    {
     "name": "stdout",
     "output_type": "stream",
     "text": [
      "Epoch 1/10\n",
      "8/8 [==============================] - 10s 1s/step - loss: 0.5706 - acc: 0.7080 - val_loss: 0.1902 - val_acc: 0.9420\n",
      "Epoch 2/10\n",
      "8/8 [==============================] - 9s 1s/step - loss: 0.2088 - acc: 0.9140 - val_loss: 0.1039 - val_acc: 0.9660\n",
      "Epoch 3/10\n",
      "8/8 [==============================] - 8s 1s/step - loss: 0.1481 - acc: 0.9480 - val_loss: 0.0837 - val_acc: 0.9740\n",
      "Epoch 4/10\n",
      "8/8 [==============================] - 8s 1s/step - loss: 0.1202 - acc: 0.9560 - val_loss: 0.0801 - val_acc: 0.9720\n",
      "Epoch 5/10\n",
      "8/8 [==============================] - 8s 1s/step - loss: 0.0893 - acc: 0.9700 - val_loss: 0.0724 - val_acc: 0.9800\n",
      "Epoch 6/10\n",
      "8/8 [==============================] - 8s 1s/step - loss: 0.0771 - acc: 0.9700 - val_loss: 0.0681 - val_acc: 0.9800\n",
      "Epoch 7/10\n",
      "8/8 [==============================] - 8s 1s/step - loss: 0.0581 - acc: 0.9760 - val_loss: 0.0691 - val_acc: 0.9780\n",
      "Epoch 8/10\n",
      "8/8 [==============================] - 8s 1s/step - loss: 0.0586 - acc: 0.9820 - val_loss: 0.0645 - val_acc: 0.9780\n",
      "Epoch 9/10\n",
      "8/8 [==============================] - 8s 1s/step - loss: 0.0571 - acc: 0.9780 - val_loss: 0.0645 - val_acc: 0.9760\n",
      "Epoch 10/10\n",
      "8/8 [==============================] - 8s 1s/step - loss: 0.0469 - acc: 0.9800 - val_loss: 0.0681 - val_acc: 0.9780\n"
     ]
    },
    {
     "data": {
      "text/plain": [
       "<keras.src.callbacks.History at 0x1c608fe5f90>"
      ]
     },
     "execution_count": 24,
     "metadata": {},
     "output_type": "execute_result"
    }
   ],
   "source": [
    "model = model_maker()\n",
    "model.compile(loss='categorical_crossentropy',\n",
    "    optimizer=keras.optimizers.Adam(lr=0.001),\n",
    "    metrics=['acc'])\n",
    "\n",
    "num_steps = math.ceil(float(TRAIN_SAMPLES)/BATCH_SIZE)\n",
    "\n",
    "model.fit(train_generator,\n",
    "    steps_per_epoch = num_steps,\n",
    "    epochs=10,\n",
    "    validation_data = validation_generator,\n",
    "    validation_steps = num_steps)"
   ]
  },
  {
   "cell_type": "code",
   "execution_count": 25,
   "id": "5d67d885-35cc-490f-90fa-eedc7af07bce",
   "metadata": {},
   "outputs": [
    {
     "name": "stderr",
     "output_type": "stream",
     "text": [
      "C:\\Users\\Максимка\\AppData\\Local\\Programs\\Python\\Python311\\Lib\\site-packages\\keras\\src\\engine\\training.py:3000: UserWarning: You are saving your model as an HDF5 file via `model.save()`. This file format is considered legacy. We recommend using instead the native Keras format, e.g. `model.save('my_model.keras')`.\n",
      "  saving_api.save_model(\n"
     ]
    }
   ],
   "source": [
    "model.save('model.h5')"
   ]
  },
  {
   "cell_type": "code",
   "execution_count": 26,
   "id": "ac2694a1-a97d-4c1c-929f-bdf3b42d60d5",
   "metadata": {},
   "outputs": [],
   "source": [
    "model.save('model.keras')"
   ]
  },
  {
   "cell_type": "code",
   "execution_count": null,
   "id": "0dbc1fb7-bcd8-49d6-b524-ce1d58c60a9c",
   "metadata": {},
   "outputs": [],
   "source": []
  }
 ],
 "metadata": {
  "kernelspec": {
   "display_name": "Python 3 (ipykernel)",
   "language": "python",
   "name": "python3"
  },
  "language_info": {
   "codemirror_mode": {
    "name": "ipython",
    "version": 3
   },
   "file_extension": ".py",
   "mimetype": "text/x-python",
   "name": "python",
   "nbconvert_exporter": "python",
   "pygments_lexer": "ipython3",
   "version": "3.11.4"
  }
 },
 "nbformat": 4,
 "nbformat_minor": 5
}
